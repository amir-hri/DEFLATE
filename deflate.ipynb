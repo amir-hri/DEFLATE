{
 "cells": [
  {
   "cell_type": "code",
   "execution_count": 1,
   "id": "abcd1be7-e650-4cc2-938d-214e520eea63",
   "metadata": {},
   "outputs": [],
   "source": [
    "# LZ77 compression implementation (First part of the Deflate algorithm)\n",
    "\n",
    "def find_longest_match(s, curr_pos, window_size, buffer_size):\n",
    "    buffer_end = min(curr_pos + buffer_size, len(s))\n",
    "    best_match_distance = 0\n",
    "    best_match_length = 0\n",
    "    \n",
    "    for i in range(max(0, curr_pos - window_size), curr_pos):\n",
    "        match_length = 0\n",
    "        while (curr_pos + match_length < buffer_end and\n",
    "               i + match_length < curr_pos and\n",
    "               s[i + match_length] == s[curr_pos + match_length]):\n",
    "            match_length += 1\n",
    "        \n",
    "        if match_length > best_match_length:\n",
    "            best_match_distance = curr_pos - i\n",
    "            best_match_length = match_length\n",
    "    \n",
    "    if best_match_length > 0:\n",
    "        return (best_match_distance, best_match_length)\n",
    "        \n",
    "    return None\n",
    "    \n",
    "def lz77_encoding(s, window_size=2048, buffer_size=64):\n",
    "    compressed = []\n",
    "    i = 0\n",
    "    while i < len(s):\n",
    "        match = find_longest_match(s, i, window_size, buffer_size)\n",
    "        if match:\n",
    "            (jump, window_length) = match\n",
    "            next_char = s[i + window_length] if i + window_length < len(s) else ''\n",
    "            compressed.append((jump, window_length, next_char))\n",
    "            i += window_length + 1\n",
    "        else:\n",
    "            compressed.append((0, 0, s[i]))\n",
    "            i += 1\n",
    "            \n",
    "    return compressed\n",
    "\n",
    "def lz77_decoding(compressed):\n",
    "    decompressed = []\n",
    "    for item in compressed:\n",
    "        if item[0] == 0 and item[1] == 0:\n",
    "            decompressed.append(item[2])\n",
    "        else:\n",
    "            jump, window_length, next_char = item\n",
    "            for i in range(window_length):\n",
    "                decompressed.append(decompressed[-jump])\n",
    "            decompressed.append(next_char)\n",
    "            \n",
    "    return ''.join(decompressed)"
   ]
  },
  {
   "cell_type": "code",
   "execution_count": null,
   "id": "eb791a7b-8270-43f2-a3ff-a136940bf52c",
   "metadata": {},
   "outputs": [],
   "source": []
  },
  {
   "cell_type": "code",
   "execution_count": 2,
   "id": "768fdc68-350f-4d78-9ddc-dad500f57380",
   "metadata": {},
   "outputs": [],
   "source": [
    "# Huffman coding implementation (Second part of the Deflate algorithm)\n",
    "\n",
    "import heapq\n",
    "\n",
    "class Node:\n",
    "    def __init__(self, char, freq):\n",
    "        self.char = char\n",
    "        self.freq = freq\n",
    "        self.left = None\n",
    "        self.right = None\n",
    "\n",
    "    def __lt__(self, another):\n",
    "        return self.freq < another.freq\n",
    "\n",
    "def count_freqs(s):\n",
    "    freq_dict = {}\n",
    "    nodes_list = []\n",
    "    for c in s:\n",
    "        if c not in freq_dict:\n",
    "            freq_dict[c] = 1\n",
    "        else:\n",
    "            freq_dict[c] += 1\n",
    "            \n",
    "    for char in freq_dict:\n",
    "        nodes_list.append(Node(char, freq_dict[char]))\n",
    "        \n",
    "    return nodes_list\n",
    "\n",
    "def generate_huffman_tree(s):\n",
    "    minheap = count_freqs(s)\n",
    "    heapq.heapify(minheap)\n",
    "    while len(minheap) > 1:\n",
    "        left = heapq.heappop(minheap)\n",
    "        right = heapq.heappop(minheap)\n",
    "        new_freq = left.freq + right.freq\n",
    "        new_node = Node(None, new_freq)\n",
    "        new_node.left = left\n",
    "        new_node.right = right\n",
    "        heapq.heappush(minheap, new_node)\n",
    "        \n",
    "    return minheap[0]\n",
    "\n",
    "def generate_huffman_codes(node, curr_code, codes):\n",
    "    if node is None:\n",
    "        return\n",
    "    if node.char is not None:\n",
    "        codes[node.char] = curr_code\n",
    "\n",
    "    generate_huffman_codes(node.left, curr_code + '0', codes)\n",
    "    generate_huffman_codes(node.right, curr_code + '1', codes)\n",
    "\n",
    "def huffman_encoding(s):\n",
    "    codes = {}\n",
    "    root = generate_huffman_tree(s)\n",
    "    generate_huffman_codes(root, '', codes)\n",
    "    encoded_string = \"\".join(codes[char] for char in s)\n",
    "\n",
    "    return encoded_string, root\n",
    "\n",
    "def huffman_decoding(bin_s, root):\n",
    "    curr = root\n",
    "    decoded_string = []\n",
    "    for b in bin_s:\n",
    "        if b == '0':\n",
    "            curr = curr.left\n",
    "        else:\n",
    "            curr = curr.right\n",
    "        if curr.char is not None:\n",
    "            decoded_string.append(curr.char)\n",
    "            curr = root\n",
    "\n",
    "    return ''.join(decoded_string)"
   ]
  },
  {
   "cell_type": "code",
   "execution_count": null,
   "id": "17de8e7f-db36-482e-8fa9-7580b842cde7",
   "metadata": {},
   "outputs": [],
   "source": []
  },
  {
   "cell_type": "code",
   "execution_count": 3,
   "id": "0b7eb16c-1d1e-4acc-8f49-2ae14cc7f2bb",
   "metadata": {},
   "outputs": [],
   "source": [
    "# Deflate compression implementation (Combination of LZ77 and Huffman coding)\n",
    "\n",
    "def deflate_compress(data, window_size=2048):\n",
    "    lz77_compressed = lz77_encoding(data, window_size)\n",
    "    \n",
    "    lz77_string = \"\".join([f\"{jump},{match_length},{next_char},\" for jump, match_length, next_char in lz77_compressed])\n",
    "    lz77_string = lz77_string[0 : len(lz77_string)-1]\n",
    "    \n",
    "    huffman_encoded, huffman_tree = huffman_encoding(lz77_string)\n",
    "    \n",
    "    return huffman_encoded, huffman_tree\n",
    "\n",
    "def deflate_decompress(compressed_data, huffman_tree):\n",
    "    huffman_decoded = huffman_decoding(compressed_data, huffman_tree)\n",
    "    huffman_decoded = huffman_decoded.split(',')\n",
    "\n",
    "    lz77_compressed = []\n",
    "    for i in range(0, len(huffman_decoded), 3):\n",
    "        jump, match_length, next_char = int(huffman_decoded[i]), int(huffman_decoded[i+1]), huffman_decoded[i+2]\n",
    "        lz77_compressed.append((jump, match_length, next_char))\n",
    "    \n",
    "    return lz77_decoding(lz77_compressed)\n",
    "\n"
   ]
  },
  {
   "cell_type": "code",
   "execution_count": 61,
   "id": "efd9ed2e-8746-4711-9ce0-4b1af60af616",
   "metadata": {},
   "outputs": [
    {
     "name": "stdout",
     "output_type": "stream",
     "text": [
      "Original data: lossless\n",
      "Compressed data: 1001001111101001001111001001001110101100011000111110100100111000110110110100\n",
      "Decompressed data: lossless\n"
     ]
    }
   ],
   "source": [
    "# Example usage\n",
    "#original_data = \"It was the best of times it was the worst of times it was the age of wisdom it was the age of foolishness it was the epoch of belief it was the epoch of incredulity it was the season of Light it was the season of Darkness it was the spring of hope it was the winter of despair we had everything before us we had nothing before us we were all going direct to Heaven we were all going direct the other way—in short the period was so far like the present period that some of its noisiest authorities insisted on its being received for good or for evil in the superlative degree of comparison only\"\n",
    "original_data = 'lossless'\n",
    "compressed, huffman_tree = deflate_compress(original_data)\n",
    "decompressed = deflate_decompress(compressed, huffman_tree)\n",
    "\n",
    "print(f\"Original data: {original_data}\")\n",
    "print(f\"Compressed data: {compressed}\")\n",
    "print(f\"Decompressed data: {decompressed}\")\n"
   ]
  },
  {
   "cell_type": "code",
   "execution_count": null,
   "id": "eccd9925-a042-4ad3-a475-fb46c17cd82e",
   "metadata": {},
   "outputs": [],
   "source": []
  },
  {
   "cell_type": "code",
   "execution_count": null,
   "id": "c38682a9-966c-4b0e-8326-9b127359aa8b",
   "metadata": {},
   "outputs": [],
   "source": []
  },
  {
   "cell_type": "code",
   "execution_count": null,
   "id": "b94266c2-bb18-4765-9349-102e81d830d6",
   "metadata": {},
   "outputs": [],
   "source": []
  },
  {
   "cell_type": "code",
   "execution_count": 43,
   "id": "3466ea63-2fc6-4d9a-b768-04462e939095",
   "metadata": {},
   "outputs": [],
   "source": [
    "import time, sys\n",
    "\n",
    "def evaluate_deflate(data):\n",
    "    start_time = time.time()\n",
    "    compressed, huffman_tree = deflate_compress(data)\n",
    "    compression_time = time.time() - start_time\n",
    "    \n",
    "    start_time = time.time()\n",
    "    decompressed = deflate_decompress(compressed, huffman_tree)\n",
    "    decompression_time = time.time() - start_time\n",
    "    \n",
    "    original_size = len(data)*8\n",
    "    compressed_size = len(compressed)\n",
    "    \n",
    "    compression_ratio = original_size / compressed_size\n",
    "    compression_speed = original_size / compression_time\n",
    "    decompression_speed = original_size / decompression_time\n",
    "    \n",
    "    return {\n",
    "        \"compression_ratio\": compression_ratio,\n",
    "        \"compression_speed\": compression_speed,\n",
    "        \"decompression_speed\": decompression_speed,\n",
    "        \"original_size\": original_size,\n",
    "        \"compressed_size\": compressed_size,\n",
    "        \"is_lossless\": data == decompressed\n",
    "    }"
   ]
  },
  {
   "cell_type": "code",
   "execution_count": 115,
   "id": "a28569cd-7e87-41d6-984a-92facb1326dd",
   "metadata": {},
   "outputs": [
    {
     "name": "stdout",
     "output_type": "stream",
     "text": [
      "Results for large_text:\n",
      "  compression_ratio: 1.1912653846399925\n",
      "  compression_speed: 165294.99396273968\n",
      "  decompression_speed: 26583027.71502864\n",
      "  original_size: 3351456\n",
      "  compressed_size: 2813358\n",
      "  is_lossless: True\n",
      "\n",
      "Results for repetitive:\n",
      "  compression_ratio: 18.15548302262093\n",
      "  compression_speed: 85186.68652774316\n",
      "  decompression_speed: 159019094.2670365\n",
      "  original_size: 2720000\n",
      "  compressed_size: 149817\n",
      "  is_lossless: True\n",
      "\n",
      "Results for random:\n",
      "  compression_ratio: 0.6264459868303969\n",
      "  compression_speed: 92733.50478886467\n",
      "  decompression_speed: 14826696.660266247\n",
      "  original_size: 2640000\n",
      "  compressed_size: 4214250\n",
      "  is_lossless: True\n",
      "\n"
     ]
    }
   ],
   "source": [
    "import random, string\n",
    "datasets = [\n",
    "    #(\"small_text\", \"This is a small text file for testing.\"),\n",
    "    #(\"medium_text\", open(\"large_text.txt\", \"r\").read()),\n",
    "    (\"large_text\", open(\"large_text2.txt\", \"r\").read()),\n",
    "    (\"repetitive\", \"ab\" * 50000 + \"bb\" * 50000 + \"bcab\" * 35000),\n",
    "    (\"random\", ''.join(random.choices(string.ascii_letters, k=330000)))\n",
    "]\n",
    "\n",
    "for name, data in datasets:\n",
    "    results = evaluate_deflate(data)\n",
    "    print(f\"Results for {name}:\")\n",
    "    for key, value in results.items():\n",
    "        print(f\"  {key}: {value}\")\n",
    "    print()"
   ]
  },
  {
   "cell_type": "code",
   "execution_count": 116,
   "id": "03b9db5c-e563-4d63-ad6d-561a41f2bb02",
   "metadata": {},
   "outputs": [
    {
     "data": {
      "image/png": "[encoded data removed]",
      "text/plain": [
       "<Figure size 1500x500 with 2 Axes>"
      ]
     },
     "metadata": {},
     "output_type": "display_data"
    },
    {
     "name": "stdout",
     "output_type": "stream",
     "text": [
      "large_text:\n",
      "  Compression Ratio: 1.19\n",
      "  Compression Speed: 164536.73 bits/second\n",
      "  Decompression Speed: 26633948.81 bits/second\n",
      "\n",
      "repetitive:\n",
      "  Compression Ratio: 18.16\n",
      "  Compression Speed: 84871.34 bits/second\n",
      "  Decompression Speed: 156999241.46 bits/second\n",
      "\n",
      "random:\n",
      "  Compression Ratio: 0.63\n",
      "  Compression Speed: 92676.27 bits/second\n",
      "  Decompression Speed: 14758243.56 bits/second\n",
      "\n"
     ]
    }
   ],
   "source": [
    "import matplotlib.pyplot as plt\n",
    "\n",
    "# Collect data\n",
    "names = []\n",
    "compression_ratios = []\n",
    "compression_speeds = []\n",
    "decompression_speeds = []\n",
    "\n",
    "for name, data in datasets:\n",
    "    results = evaluate_deflate(data)\n",
    "    names.append(name)\n",
    "    compression_ratios.append(results['compression_ratio'])\n",
    "    compression_speeds.append(results['compression_speed'])\n",
    "    decompression_speeds.append(results['decompression_speed'])\n",
    "\n",
    "plt.figure(figsize=(15, 5))\n",
    "\n",
    "# Compression Ratio\n",
    "plt.subplot(131)\n",
    "plt.bar(names, compression_ratios)\n",
    "plt.title('Compression Ratio')\n",
    "plt.xlabel('Dataset')\n",
    "plt.ylabel('Ratio')\n",
    "plt.xticks(rotation=45)\n",
    "y_ticks = np.arange(0, 20, 1)\n",
    "plt.yticks(y_ticks)\n",
    "\n",
    "# Compression Speed\n",
    "plt.subplot(132)\n",
    "plt.bar(names, compression_speeds)\n",
    "plt.title('Compression Speed')\n",
    "plt.xlabel('Dataset')\n",
    "plt.ylabel('Speed (bits/second)')\n",
    "plt.xticks(rotation=45)\n",
    "\n",
    "# Decompression Speed\n",
    "plt.subplot(133)\n",
    "plt.bar(names, decompression_speeds)\n",
    "plt.title('Decompression Speed')\n",
    "plt.xlabel('Dataset')\n",
    "plt.ylabel('Speed (bits/second)')\n",
    "plt.xticks(rotation=45)\n",
    "\n",
    "plt.tight_layout()\n",
    "plt.show()\n",
    "\n",
    "for name, ratio, comp_speed, decomp_speed in zip(names, compression_ratios, compression_speeds, decompression_speeds):\n",
    "    print(f\"{name}:\")\n",
    "    print(f\"  Compression Ratio: {ratio:.2f}\")\n",
    "    print(f\"  Compression Speed: {comp_speed:.2f} bits/second\")\n",
    "    print(f\"  Decompression Speed: {decomp_speed:.2f} bits/second\")\n",
    "    print()"
   ]
  },
  {
   "cell_type": "code",
   "execution_count": 59,
   "id": "c38f0b88-26b9-4bf5-a4ff-863a884b4691",
   "metadata": {},
   "outputs": [
    {
     "data": {
      "text/plain": [
       "'rqaZIndwgVhqpqIWPqGmPEHnMUUhqqkFJmvxAYxljPlhItEuQfrZyxEteLYqUlrmbdugLYQaCXDLRbqLZhRDvAhFTCfiYfyPenpc'"
      ]
     },
     "execution_count": 59,
     "metadata": {},
     "output_type": "execute_result"
    }
   ],
   "source": [
    "randstring = ''.join(random.choices(string.ascii_letters, k=100))\n",
    "randstring"
   ]
  },
  {
   "cell_type": "code",
   "execution_count": 157,
   "id": "c8a41c5f-a477-48c2-9090-f126729ca9b5",
   "metadata": {},
   "outputs": [],
   "source": [
    "st = '''\n",
    "The sun rises and the sun sets the stars shine and the stars fade the waves crash and the waves retreat day after day the cycle repeats life grows and life rests birds fly and birds return the rhythm of nature never stops never ends always in motion always the same the sun rises and the sun sets the stars shine and the stars fade the waves crash and the waves retreat day after day the cycle repeats life grows and life rests birds fly and birds return the rhythm of nature never stops never ends always in motion always the same the sun rises and the sun sets the stars shine and the stars fade the waves crash and the waves retreat day after day the cycle repeats life grows and life rests birds fly and birds return the rhythm of nature never stops never ends always in motion always the same the sun rises and the sun sets the stars shine and the stars fade the waves crash and the waves retreat day after day the cycle repeats life grows and life rests birds fly and birds return the rhythm of nature never stops never ends always in motion always the same the sun rises and the sun sets the stars shine and the stars fade the waves crash and the waves retreat day after day the cycle repeats life grows and life rests birds fly and birds return the rhythm of nature never stops never ends always in motion always the same\n",
    "'''\n",
    "file = open(\"large_text2.txt\", \"r\").read()\n",
    "defl, tree = deflate_compress(st)"
   ]
  },
  {
   "cell_type": "code",
   "execution_count": 158,
   "id": "9d2bfbd3-5bd6-4273-b58a-d647b3b9ccef",
   "metadata": {},
   "outputs": [],
   "source": [
    "huff, root = huffman_encoding(st)"
   ]
  },
  {
   "cell_type": "code",
   "execution_count": 163,
   "id": "82bccbe0-2827-47dc-aa8a-1cce64146715",
   "metadata": {},
   "outputs": [],
   "source": [
    "orglen = len(st*8)\n",
    "defllen = len(defl)\n",
    "hufflen = len(huff)\n",
    "defl_cr = orglen / defllen\n",
    "huff_cr = orglen / hufflen"
   ]
  },
  {
   "cell_type": "code",
   "execution_count": 172,
   "id": "88ce98f3-884f-40e1-88ca-f7adcb92ee47",
   "metadata": {},
   "outputs": [
    {
     "data": {
      "text/plain": [
       "3.7625441696113073"
      ]
     },
     "execution_count": 172,
     "metadata": {},
     "output_type": "execute_result"
    }
   ],
   "source": [
    "defl_cr"
   ]
  },
  {
   "cell_type": "code",
   "execution_count": 173,
   "id": "b85f7f64-c603-4b88-99af-7d9251208ab6",
   "metadata": {},
   "outputs": [
    {
     "data": {
      "text/plain": [
       "2.0382848392036754"
      ]
     },
     "execution_count": 173,
     "metadata": {},
     "output_type": "execute_result"
    }
   ],
   "source": [
    "huff_cr "
   ]
  },
  {
   "cell_type": "code",
   "execution_count": 169,
   "id": "00a3a8f6-35b1-43c9-ae2c-44a02ebb31b4",
   "metadata": {},
   "outputs": [
    {
     "data": {
      "image/png": "[encoded data removed]",
      "text/plain": [
       "<Figure size 640x480 with 1 Axes>"
      ]
     },
     "metadata": {},
     "output_type": "display_data"
    }
   ],
   "source": [
    "methods = ['DEFLATE', 'Huffman']\n",
    "values = [3.762, 2.038]\n",
    "\n",
    "plt.bar(methods, values)\n",
    "\n",
    "plt.xlabel('Compression Method')\n",
    "plt.ylabel('Value')\n",
    "plt.title('Comparison of Compression Methods')\n",
    "plt.ylim(0, 4)\n",
    "plt.show()"
   ]
  },
  {
   "cell_type": "code",
   "execution_count": null,
   "id": "992dbe46-9b68-4c43-a868-7738a8f95865",
   "metadata": {},
   "outputs": [],
   "source": []
  }
 ],
 "metadata": {
  "kernelspec": {
   "display_name": "Python 3 (ipykernel)",
   "language": "python",
   "name": "python3"
  },
  "language_info": {
   "codemirror_mode": {
    "name": "ipython",
    "version": 3
   },
   "file_extension": ".py",
   "mimetype": "text/x-python",
   "name": "python",
   "nbconvert_exporter": "python",
   "pygments_lexer": "ipython3",
   "version": "3.13.1"
  }
 },
 "nbformat": 4,
 "nbformat_minor": 5
}
